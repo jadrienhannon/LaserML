{
  "cells": [
    {
      "cell_type": "code",
      "execution_count": null,
      "id": "807014b7",
      "metadata": {
        "id": "807014b7"
      },
      "outputs": [],
      "source": [
        "import h5py\n",
        "import pandas as pd\n",
        "import numpy as np\n",
        "import seaborn as sns\n",
        "import matplotlib.pyplot as plt"
      ]
    },
    {
      "cell_type": "code",
      "execution_count": null,
      "id": "701bb829",
      "metadata": {
        "scrolled": true,
        "id": "701bb829"
      },
      "outputs": [],
      "source": [
        "fx = h5py.File('Data_Fuchs_v_0_lambda_um_0.8_points_100000_seed_0.h5', 'r')"
      ]
    },
    {
      "cell_type": "code",
      "execution_count": null,
      "id": "1cff35b3",
      "metadata": {
        "id": "1cff35b3"
      },
      "outputs": [],
      "source": [
        "fx_dict = dict()\n",
        "for i in fx.keys():\n",
        "    fx_dict[i] = fx[i][:]"
      ]
    },
    {
      "cell_type": "code",
      "execution_count": null,
      "id": "af75b49c",
      "metadata": {
        "id": "af75b49c"
      },
      "outputs": [],
      "source": [
        "fx.close()"
      ]
    },
    {
      "cell_type": "code",
      "execution_count": null,
      "id": "213f4e74",
      "metadata": {
        "id": "213f4e74"
      },
      "outputs": [],
      "source": [
        "df = pd.DataFrame(fx_dict)"
      ]
    },
    {
      "cell_type": "code",
      "execution_count": null,
      "id": "6223d9eb",
      "metadata": {
        "id": "6223d9eb",
        "outputId": "d75551b0-a575-4cfe-be4e-7e46f72a3340",
        "colab": {
          "base_uri": "https://localhost:8080/",
          "height": 204
        }
      },
      "outputs": [
        {
          "output_type": "execute_result",
          "data": {
            "text/plain": [
              "   Intensity_(W_cm2)  Max_Proton_Energy_(MeV)  Pulse_Duration_(fs)  \\\n",
              "0       4.430375e+19                26.342629           276.923395   \n",
              "1       1.398196e+20                23.447607           453.941239   \n",
              "2       6.431172e+19                22.036055           261.150353   \n",
              "3       4.311710e+19                 0.180223            68.417606   \n",
              "4       1.866227e+19                 4.596437           273.239350   \n",
              "\n",
              "   Spot_Size_(FWHM um)  Target_Thickness (um)  \n",
              "0             7.890441               4.746512  \n",
              "1             1.454827              11.951370  \n",
              "2             9.977904              19.758459  \n",
              "3             1.609050              19.041907  \n",
              "4             2.885191               7.187944  "
            ],
            "text/html": [
              "\n",
              "  <div id=\"df-a5115196-f76e-4b79-b2c7-8550222c3aa6\">\n",
              "    <div class=\"colab-df-container\">\n",
              "      <div>\n",
              "<style scoped>\n",
              "    .dataframe tbody tr th:only-of-type {\n",
              "        vertical-align: middle;\n",
              "    }\n",
              "\n",
              "    .dataframe tbody tr th {\n",
              "        vertical-align: top;\n",
              "    }\n",
              "\n",
              "    .dataframe thead th {\n",
              "        text-align: right;\n",
              "    }\n",
              "</style>\n",
              "<table border=\"1\" class=\"dataframe\">\n",
              "  <thead>\n",
              "    <tr style=\"text-align: right;\">\n",
              "      <th></th>\n",
              "      <th>Intensity_(W_cm2)</th>\n",
              "      <th>Max_Proton_Energy_(MeV)</th>\n",
              "      <th>Pulse_Duration_(fs)</th>\n",
              "      <th>Spot_Size_(FWHM um)</th>\n",
              "      <th>Target_Thickness (um)</th>\n",
              "    </tr>\n",
              "  </thead>\n",
              "  <tbody>\n",
              "    <tr>\n",
              "      <th>0</th>\n",
              "      <td>4.430375e+19</td>\n",
              "      <td>26.342629</td>\n",
              "      <td>276.923395</td>\n",
              "      <td>7.890441</td>\n",
              "      <td>4.746512</td>\n",
              "    </tr>\n",
              "    <tr>\n",
              "      <th>1</th>\n",
              "      <td>1.398196e+20</td>\n",
              "      <td>23.447607</td>\n",
              "      <td>453.941239</td>\n",
              "      <td>1.454827</td>\n",
              "      <td>11.951370</td>\n",
              "    </tr>\n",
              "    <tr>\n",
              "      <th>2</th>\n",
              "      <td>6.431172e+19</td>\n",
              "      <td>22.036055</td>\n",
              "      <td>261.150353</td>\n",
              "      <td>9.977904</td>\n",
              "      <td>19.758459</td>\n",
              "    </tr>\n",
              "    <tr>\n",
              "      <th>3</th>\n",
              "      <td>4.311710e+19</td>\n",
              "      <td>0.180223</td>\n",
              "      <td>68.417606</td>\n",
              "      <td>1.609050</td>\n",
              "      <td>19.041907</td>\n",
              "    </tr>\n",
              "    <tr>\n",
              "      <th>4</th>\n",
              "      <td>1.866227e+19</td>\n",
              "      <td>4.596437</td>\n",
              "      <td>273.239350</td>\n",
              "      <td>2.885191</td>\n",
              "      <td>7.187944</td>\n",
              "    </tr>\n",
              "  </tbody>\n",
              "</table>\n",
              "</div>\n",
              "      <button class=\"colab-df-convert\" onclick=\"convertToInteractive('df-a5115196-f76e-4b79-b2c7-8550222c3aa6')\"\n",
              "              title=\"Convert this dataframe to an interactive table.\"\n",
              "              style=\"display:none;\">\n",
              "        \n",
              "  <svg xmlns=\"http://www.w3.org/2000/svg\" height=\"24px\"viewBox=\"0 0 24 24\"\n",
              "       width=\"24px\">\n",
              "    <path d=\"M0 0h24v24H0V0z\" fill=\"none\"/>\n",
              "    <path d=\"M18.56 5.44l.94 2.06.94-2.06 2.06-.94-2.06-.94-.94-2.06-.94 2.06-2.06.94zm-11 1L8.5 8.5l.94-2.06 2.06-.94-2.06-.94L8.5 2.5l-.94 2.06-2.06.94zm10 10l.94 2.06.94-2.06 2.06-.94-2.06-.94-.94-2.06-.94 2.06-2.06.94z\"/><path d=\"M17.41 7.96l-1.37-1.37c-.4-.4-.92-.59-1.43-.59-.52 0-1.04.2-1.43.59L10.3 9.45l-7.72 7.72c-.78.78-.78 2.05 0 2.83L4 21.41c.39.39.9.59 1.41.59.51 0 1.02-.2 1.41-.59l7.78-7.78 2.81-2.81c.8-.78.8-2.07 0-2.86zM5.41 20L4 18.59l7.72-7.72 1.47 1.35L5.41 20z\"/>\n",
              "  </svg>\n",
              "      </button>\n",
              "      \n",
              "  <style>\n",
              "    .colab-df-container {\n",
              "      display:flex;\n",
              "      flex-wrap:wrap;\n",
              "      gap: 12px;\n",
              "    }\n",
              "\n",
              "    .colab-df-convert {\n",
              "      background-color: #E8F0FE;\n",
              "      border: none;\n",
              "      border-radius: 50%;\n",
              "      cursor: pointer;\n",
              "      display: none;\n",
              "      fill: #1967D2;\n",
              "      height: 32px;\n",
              "      padding: 0 0 0 0;\n",
              "      width: 32px;\n",
              "    }\n",
              "\n",
              "    .colab-df-convert:hover {\n",
              "      background-color: #E2EBFA;\n",
              "      box-shadow: 0px 1px 2px rgba(60, 64, 67, 0.3), 0px 1px 3px 1px rgba(60, 64, 67, 0.15);\n",
              "      fill: #174EA6;\n",
              "    }\n",
              "\n",
              "    [theme=dark] .colab-df-convert {\n",
              "      background-color: #3B4455;\n",
              "      fill: #D2E3FC;\n",
              "    }\n",
              "\n",
              "    [theme=dark] .colab-df-convert:hover {\n",
              "      background-color: #434B5C;\n",
              "      box-shadow: 0px 1px 3px 1px rgba(0, 0, 0, 0.15);\n",
              "      filter: drop-shadow(0px 1px 2px rgba(0, 0, 0, 0.3));\n",
              "      fill: #FFFFFF;\n",
              "    }\n",
              "  </style>\n",
              "\n",
              "      <script>\n",
              "        const buttonEl =\n",
              "          document.querySelector('#df-a5115196-f76e-4b79-b2c7-8550222c3aa6 button.colab-df-convert');\n",
              "        buttonEl.style.display =\n",
              "          google.colab.kernel.accessAllowed ? 'block' : 'none';\n",
              "\n",
              "        async function convertToInteractive(key) {\n",
              "          const element = document.querySelector('#df-a5115196-f76e-4b79-b2c7-8550222c3aa6');\n",
              "          const dataTable =\n",
              "            await google.colab.kernel.invokeFunction('convertToInteractive',\n",
              "                                                     [key], {});\n",
              "          if (!dataTable) return;\n",
              "\n",
              "          const docLinkHtml = 'Like what you see? Visit the ' +\n",
              "            '<a target=\"_blank\" href=https://colab.research.google.com/notebooks/data_table.ipynb>data table notebook</a>'\n",
              "            + ' to learn more about interactive tables.';\n",
              "          element.innerHTML = '';\n",
              "          dataTable['output_type'] = 'display_data';\n",
              "          await google.colab.output.renderOutput(dataTable, element);\n",
              "          const docLink = document.createElement('div');\n",
              "          docLink.innerHTML = docLinkHtml;\n",
              "          element.appendChild(docLink);\n",
              "        }\n",
              "      </script>\n",
              "    </div>\n",
              "  </div>\n",
              "  "
            ]
          },
          "metadata": {},
          "execution_count": 8
        }
      ],
      "source": [
        "df.head()"
      ]
    },
    {
      "cell_type": "code",
      "execution_count": null,
      "id": "39608f46",
      "metadata": {
        "id": "39608f46"
      },
      "outputs": [],
      "source": [
        "df = (df - df.mean())/df.std()"
      ]
    },
    {
      "cell_type": "code",
      "execution_count": null,
      "id": "1a6cfbef",
      "metadata": {
        "id": "1a6cfbef",
        "outputId": "7e53064c-8694-4310-cee6-d319cc0a5380",
        "colab": {
          "base_uri": "https://localhost:8080/",
          "height": 204
        }
      },
      "outputs": [
        {
          "output_type": "execute_result",
          "data": {
            "text/plain": [
              "   Intensity_(W_cm2)  Max_Proton_Energy_(MeV)  Pulse_Duration_(fs)  \\\n",
              "0          -0.441922                -0.086202             0.114213   \n",
              "1          -0.021070                -0.143620             1.391615   \n",
              "2          -0.353765                -0.171616             0.000391   \n",
              "3          -0.447151                -0.605091            -1.390413   \n",
              "4          -0.554901                -0.517503             0.087628   \n",
              "\n",
              "   Spot_Size_(FWHM um)  Target_Thickness (um)  \n",
              "0             0.924298              -0.969908  \n",
              "1            -1.550995               0.309527  \n",
              "2             1.727187               1.695906  \n",
              "3            -1.491678               1.568661  \n",
              "4            -1.000843              -0.536360  "
            ],
            "text/html": [
              "\n",
              "  <div id=\"df-03d38566-d209-4284-a666-9a31ded2178f\">\n",
              "    <div class=\"colab-df-container\">\n",
              "      <div>\n",
              "<style scoped>\n",
              "    .dataframe tbody tr th:only-of-type {\n",
              "        vertical-align: middle;\n",
              "    }\n",
              "\n",
              "    .dataframe tbody tr th {\n",
              "        vertical-align: top;\n",
              "    }\n",
              "\n",
              "    .dataframe thead th {\n",
              "        text-align: right;\n",
              "    }\n",
              "</style>\n",
              "<table border=\"1\" class=\"dataframe\">\n",
              "  <thead>\n",
              "    <tr style=\"text-align: right;\">\n",
              "      <th></th>\n",
              "      <th>Intensity_(W_cm2)</th>\n",
              "      <th>Max_Proton_Energy_(MeV)</th>\n",
              "      <th>Pulse_Duration_(fs)</th>\n",
              "      <th>Spot_Size_(FWHM um)</th>\n",
              "      <th>Target_Thickness (um)</th>\n",
              "    </tr>\n",
              "  </thead>\n",
              "  <tbody>\n",
              "    <tr>\n",
              "      <th>0</th>\n",
              "      <td>-0.441922</td>\n",
              "      <td>-0.086202</td>\n",
              "      <td>0.114213</td>\n",
              "      <td>0.924298</td>\n",
              "      <td>-0.969908</td>\n",
              "    </tr>\n",
              "    <tr>\n",
              "      <th>1</th>\n",
              "      <td>-0.021070</td>\n",
              "      <td>-0.143620</td>\n",
              "      <td>1.391615</td>\n",
              "      <td>-1.550995</td>\n",
              "      <td>0.309527</td>\n",
              "    </tr>\n",
              "    <tr>\n",
              "      <th>2</th>\n",
              "      <td>-0.353765</td>\n",
              "      <td>-0.171616</td>\n",
              "      <td>0.000391</td>\n",
              "      <td>1.727187</td>\n",
              "      <td>1.695906</td>\n",
              "    </tr>\n",
              "    <tr>\n",
              "      <th>3</th>\n",
              "      <td>-0.447151</td>\n",
              "      <td>-0.605091</td>\n",
              "      <td>-1.390413</td>\n",
              "      <td>-1.491678</td>\n",
              "      <td>1.568661</td>\n",
              "    </tr>\n",
              "    <tr>\n",
              "      <th>4</th>\n",
              "      <td>-0.554901</td>\n",
              "      <td>-0.517503</td>\n",
              "      <td>0.087628</td>\n",
              "      <td>-1.000843</td>\n",
              "      <td>-0.536360</td>\n",
              "    </tr>\n",
              "  </tbody>\n",
              "</table>\n",
              "</div>\n",
              "      <button class=\"colab-df-convert\" onclick=\"convertToInteractive('df-03d38566-d209-4284-a666-9a31ded2178f')\"\n",
              "              title=\"Convert this dataframe to an interactive table.\"\n",
              "              style=\"display:none;\">\n",
              "        \n",
              "  <svg xmlns=\"http://www.w3.org/2000/svg\" height=\"24px\"viewBox=\"0 0 24 24\"\n",
              "       width=\"24px\">\n",
              "    <path d=\"M0 0h24v24H0V0z\" fill=\"none\"/>\n",
              "    <path d=\"M18.56 5.44l.94 2.06.94-2.06 2.06-.94-2.06-.94-.94-2.06-.94 2.06-2.06.94zm-11 1L8.5 8.5l.94-2.06 2.06-.94-2.06-.94L8.5 2.5l-.94 2.06-2.06.94zm10 10l.94 2.06.94-2.06 2.06-.94-2.06-.94-.94-2.06-.94 2.06-2.06.94z\"/><path d=\"M17.41 7.96l-1.37-1.37c-.4-.4-.92-.59-1.43-.59-.52 0-1.04.2-1.43.59L10.3 9.45l-7.72 7.72c-.78.78-.78 2.05 0 2.83L4 21.41c.39.39.9.59 1.41.59.51 0 1.02-.2 1.41-.59l7.78-7.78 2.81-2.81c.8-.78.8-2.07 0-2.86zM5.41 20L4 18.59l7.72-7.72 1.47 1.35L5.41 20z\"/>\n",
              "  </svg>\n",
              "      </button>\n",
              "      \n",
              "  <style>\n",
              "    .colab-df-container {\n",
              "      display:flex;\n",
              "      flex-wrap:wrap;\n",
              "      gap: 12px;\n",
              "    }\n",
              "\n",
              "    .colab-df-convert {\n",
              "      background-color: #E8F0FE;\n",
              "      border: none;\n",
              "      border-radius: 50%;\n",
              "      cursor: pointer;\n",
              "      display: none;\n",
              "      fill: #1967D2;\n",
              "      height: 32px;\n",
              "      padding: 0 0 0 0;\n",
              "      width: 32px;\n",
              "    }\n",
              "\n",
              "    .colab-df-convert:hover {\n",
              "      background-color: #E2EBFA;\n",
              "      box-shadow: 0px 1px 2px rgba(60, 64, 67, 0.3), 0px 1px 3px 1px rgba(60, 64, 67, 0.15);\n",
              "      fill: #174EA6;\n",
              "    }\n",
              "\n",
              "    [theme=dark] .colab-df-convert {\n",
              "      background-color: #3B4455;\n",
              "      fill: #D2E3FC;\n",
              "    }\n",
              "\n",
              "    [theme=dark] .colab-df-convert:hover {\n",
              "      background-color: #434B5C;\n",
              "      box-shadow: 0px 1px 3px 1px rgba(0, 0, 0, 0.15);\n",
              "      filter: drop-shadow(0px 1px 2px rgba(0, 0, 0, 0.3));\n",
              "      fill: #FFFFFF;\n",
              "    }\n",
              "  </style>\n",
              "\n",
              "      <script>\n",
              "        const buttonEl =\n",
              "          document.querySelector('#df-03d38566-d209-4284-a666-9a31ded2178f button.colab-df-convert');\n",
              "        buttonEl.style.display =\n",
              "          google.colab.kernel.accessAllowed ? 'block' : 'none';\n",
              "\n",
              "        async function convertToInteractive(key) {\n",
              "          const element = document.querySelector('#df-03d38566-d209-4284-a666-9a31ded2178f');\n",
              "          const dataTable =\n",
              "            await google.colab.kernel.invokeFunction('convertToInteractive',\n",
              "                                                     [key], {});\n",
              "          if (!dataTable) return;\n",
              "\n",
              "          const docLinkHtml = 'Like what you see? Visit the ' +\n",
              "            '<a target=\"_blank\" href=https://colab.research.google.com/notebooks/data_table.ipynb>data table notebook</a>'\n",
              "            + ' to learn more about interactive tables.';\n",
              "          element.innerHTML = '';\n",
              "          dataTable['output_type'] = 'display_data';\n",
              "          await google.colab.output.renderOutput(dataTable, element);\n",
              "          const docLink = document.createElement('div');\n",
              "          docLink.innerHTML = docLinkHtml;\n",
              "          element.appendChild(docLink);\n",
              "        }\n",
              "      </script>\n",
              "    </div>\n",
              "  </div>\n",
              "  "
            ]
          },
          "metadata": {},
          "execution_count": 10
        }
      ],
      "source": [
        "df.head()"
      ]
    },
    {
      "cell_type": "code",
      "execution_count": null,
      "id": "05b87b92",
      "metadata": {
        "id": "05b87b92"
      },
      "outputs": [],
      "source": [
        "cols = df.shape[1]"
      ]
    },
    {
      "cell_type": "code",
      "execution_count": null,
      "id": "473967ef",
      "metadata": {
        "id": "473967ef"
      },
      "outputs": [],
      "source": [
        "X1 = df.iloc[:,0:cols-1]\n",
        "Y1 = df.iloc[:, cols-1:cols]"
      ]
    },
    {
      "cell_type": "code",
      "execution_count": null,
      "id": "97fbf2ed",
      "metadata": {
        "id": "97fbf2ed"
      },
      "outputs": [],
      "source": [
        "X1 = np.matrix(X1.values)\n",
        "Y1 = np.matrix(Y1.values)"
      ]
    },
    {
      "cell_type": "code",
      "execution_count": null,
      "id": "8c892d8f",
      "metadata": {
        "id": "8c892d8f"
      },
      "outputs": [],
      "source": [
        "theta = np.matrix(np.array([0,0,0,0]))"
      ]
    },
    {
      "cell_type": "code",
      "execution_count": null,
      "id": "ae117ff6",
      "metadata": {
        "id": "ae117ff6"
      },
      "outputs": [],
      "source": [
        "def computeCost(X, y, theta):\n",
        "    inner = np.power(((X * theta.T) - y), 2)\n",
        "    return np.sum(inner) / (2 * len(X))"
      ]
    },
    {
      "cell_type": "code",
      "execution_count": null,
      "id": "a31f95bc",
      "metadata": {
        "id": "a31f95bc"
      },
      "outputs": [],
      "source": [
        "def gradientDescent(X, y, theta, alpha, iters):\n",
        "    temp = np.matrix(np.zeros(theta.shape))\n",
        "    parameters = int(theta.ravel().shape[1])\n",
        "    cost = np.zeros(iters)\n",
        "    \n",
        "    for i in range(iters):\n",
        "        error = (X * theta.T) - y\n",
        "        \n",
        "        for j in range(parameters):\n",
        "            term  = np.multiply(error, X[:,j])\n",
        "            temp[0,j] = theta[0,j] - ((alpha/len(X)) * np.sum(term))\n",
        "            \n",
        "        theta = temp\n",
        "        cost[i] = computeCost(X1, Y1, theta)\n",
        "        \n",
        "    return theta, cost"
      ]
    },
    {
      "cell_type": "code",
      "execution_count": null,
      "id": "f6d67c2d",
      "metadata": {
        "id": "f6d67c2d"
      },
      "outputs": [],
      "source": [
        "alpha = 0.01  \n",
        "iters = 1000"
      ]
    },
    {
      "cell_type": "code",
      "execution_count": null,
      "id": "933b0af4",
      "metadata": {
        "id": "933b0af4"
      },
      "outputs": [],
      "source": [
        "g, cost = gradientDescent(X1, Y1, theta, alpha, iters)"
      ]
    },
    {
      "cell_type": "code",
      "execution_count": null,
      "id": "cd6fab01",
      "metadata": {
        "id": "cd6fab01",
        "outputId": "b4428525-ca63-4e0f-d225-88b8f9b74946",
        "colab": {
          "base_uri": "https://localhost:8080/",
          "height": 530
        }
      },
      "outputs": [
        {
          "output_type": "execute_result",
          "data": {
            "text/plain": [
              "Text(0.5, 1.0, 'Error vs Training Epoch')"
            ]
          },
          "metadata": {},
          "execution_count": 19
        },
        {
          "output_type": "display_data",
          "data": {
            "text/plain": [
              "<Figure size 864x576 with 1 Axes>"
            ],
            "image/png": "[encoded data removed]"
          },
          "metadata": {
            "needs_background": "light"
          }
        }
      ],
      "source": [
        "fig, ax = plt.subplots(figsize = (12, 8))\n",
        "ax.plot(np.arange(iters), cost, 'r')\n",
        "ax.set_xlabel('Iterations')\n",
        "ax.set_ylabel('Cost')\n",
        "ax.set_title('Error vs Training Epoch')"
      ]
    },
    {
      "cell_type": "code",
      "execution_count": null,
      "id": "94dd3632",
      "metadata": {
        "id": "94dd3632"
      },
      "outputs": [],
      "source": [
        ""
      ]
    }
  ],
  "metadata": {
    "kernelspec": {
      "display_name": "Python 3 (ipykernel)",
      "language": "python",
      "name": "python3"
    },
    "language_info": {
      "codemirror_mode": {
        "name": "ipython",
        "version": 3
      },
      "file_extension": ".py",
      "mimetype": "text/x-python",
      "name": "python",
      "nbconvert_exporter": "python",
      "pygments_lexer": "ipython3",
      "version": "3.9.7"
    },
    "colab": {
      "name": "MultivariableGradientDescent.ipynb",
      "provenance": []
    }
  },
  "nbformat": 4,
  "nbformat_minor": 5
}